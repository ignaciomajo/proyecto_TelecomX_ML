{
 "cells": [
  {
   "cell_type": "markdown",
   "id": "936383b1-7fb5-4883-a9c4-8328b53e68ad",
   "metadata": {},
   "source": [
    "Proyecto Telecom X - Etapa 2 - Machine Learning\n",
    "---"
   ]
  },
  {
   "cell_type": "markdown",
   "id": "4ff6268d-5289-4536-acc3-7f7ac0690f9f",
   "metadata": {},
   "source": [
    "# Predicción de Evasión (Churn) de clientes."
   ]
  },
  {
   "cell_type": "markdown",
   "id": "8ce9ae48-b9ff-4b1d-b3c1-714bd7b812e3",
   "metadata": {},
   "source": [
    "## Índice"
   ]
  },
  {
   "cell_type": "markdown",
   "id": "7cd2b5e9-6cac-4d2c-b29f-495bc23ab043",
   "metadata": {},
   "source": []
  },
  {
   "cell_type": "markdown",
   "id": "de4c17cb-8329-40ce-b876-3005a80bbc99",
   "metadata": {},
   "source": [
    "# 1. Descripción del proyecto"
   ]
  },
  {
   "cell_type": "markdown",
   "id": "c79cb655-ee23-4078-a410-9601477d15e7",
   "metadata": {},
   "source": []
  },
  {
   "cell_type": "markdown",
   "id": "7d204433-e069-4336-be9a-7ccd1d208204",
   "metadata": {},
   "source": [
    "# 2. Importación de librerías y configuraciones"
   ]
  },
  {
   "cell_type": "markdown",
   "id": "e8ba6d53-6591-498e-947e-f5767cc8bf25",
   "metadata": {},
   "source": [
    "## Importación de librerías"
   ]
  },
  {
   "cell_type": "code",
   "execution_count": 1,
   "id": "d4d2c1a2-b115-487b-8e8d-71cbb70377e1",
   "metadata": {},
   "outputs": [],
   "source": [
    "import numpy as np\n",
    "import pandas as pd\n",
    "import matplotlib.pyplot as plt\n",
    "import seaborn as sns\n",
    "import warnings\n",
    "import requests\n",
    "from pathlib import Path\n",
    "\n",
    "from sklearn.model_selection import train_test_split as tts\n",
    "from sklearn.model_selection import KFold, cross_validate\n",
    "from sklearn.metrics import accuracy_score, precision_score, recall_score, f1_score, classification_report, confusion_matrix\n",
    "from sklearn.preprocessing import OneHotEncoder, LabelEncoder\n",
    "from sklearn.compose import make_column_transformer\n",
    "from sklearn.dummy import DummyClassifier\n",
    "from sklearn.ensemble import RandomForestClassifier"
   ]
  },
  {
   "cell_type": "markdown",
   "id": "1a64512a-496a-4183-9b88-1469903bbfb9",
   "metadata": {},
   "source": [
    "## Paths"
   ]
  },
  {
   "cell_type": "code",
   "execution_count": 2,
   "id": "2cb6ce84-c952-4522-a953-13082e4838ec",
   "metadata": {},
   "outputs": [
    {
     "name": "stdout",
     "output_type": "stream",
     "text": [
      "Directoryo creado:\n",
      "C:\\Users\\Ignacio\\JupyterScripts\\ONE\\challenge_telecomX_parte_2\\src\n",
      "\n",
      "Directoryo creado:\n",
      "C:\\Users\\Ignacio\\JupyterScripts\\ONE\\challenge_telecomX_parte_2\\img\n",
      "\n",
      "Directoryo creado:\n",
      "C:\\Users\\Ignacio\\JupyterScripts\\ONE\\challenge_telecomX_parte_2\\models\n",
      "\n",
      "Directoryo creado:\n",
      "C:\\Users\\Ignacio\\JupyterScripts\\ONE\\challenge_telecomX_parte_2\\Reports\n",
      "\n"
     ]
    }
   ],
   "source": [
    "PROJECT_PATH = 'C:/Users/Ignacio/JupyterScripts/ONE/challenge_telecomX_parte_2'\n",
    "\n",
    "src = Path('src')\n",
    "DATA_PATH = PROJECT_PATH / src\n",
    "\n",
    "img = Path('img')\n",
    "IMG_PATH = PROJECT_PATH / img\n",
    "\n",
    "models = Path('models')\n",
    "MODELS_PATH = PROJECT_PATH / models\n",
    "\n",
    "reports = Path('Reports')\n",
    "REPORTS_PATH = PROJECT_PATH / reports\n",
    "\n",
    "\n",
    "dirs = [DATA_PATH, IMG_PATH, MODELS_PATH, REPORTS_PATH]\n",
    "\n",
    "\n",
    "for directory in dirs:\n",
    "    if not directory.exists():\n",
    "        directory.mkdir(parents=True)\n",
    "        print(f'Directoryo creado:\\n{directory}\\n')\n",
    "    else:\n",
    "        print(f'El directorio ya existe:\\n{directory}\\n')"
   ]
  },
  {
   "cell_type": "markdown",
   "id": "2af2db42-5279-4d93-b951-3ed11ced3a41",
   "metadata": {},
   "source": [
    "## Funciones"
   ]
  },
  {
   "cell_type": "code",
   "execution_count": null,
   "id": "281bc20a-d233-4e6f-95ad-1e10312326b5",
   "metadata": {},
   "outputs": [],
   "source": []
  },
  {
   "cell_type": "markdown",
   "id": "cbe3b10c-f2f1-44e8-912a-ef1d2d6ffca0",
   "metadata": {},
   "source": [
    "# 3. Preprocesamiento de datos"
   ]
  },
  {
   "cell_type": "code",
   "execution_count": null,
   "id": "da8baf08-3e4f-4693-92cb-bde1f602d915",
   "metadata": {},
   "outputs": [],
   "source": []
  },
  {
   "cell_type": "code",
   "execution_count": null,
   "id": "638711c1-1b33-4928-81e1-a08edd0c3aa6",
   "metadata": {},
   "outputs": [],
   "source": []
  },
  {
   "cell_type": "markdown",
   "id": "84e2d3b5-ad07-450c-af29-5a3b7e85603b",
   "metadata": {},
   "source": [
    "# 4. Modelado de datos"
   ]
  },
  {
   "cell_type": "markdown",
   "id": "4ac9daa7-1e82-4baf-8de1-1702eb4b2d1b",
   "metadata": {},
   "source": [
    "## Baseline model"
   ]
  },
  {
   "cell_type": "code",
   "execution_count": null,
   "id": "5c6bbfa4-4d02-413a-aaff-d3fee6d1e718",
   "metadata": {},
   "outputs": [],
   "source": []
  }
 ],
 "metadata": {
  "kernelspec": {
   "display_name": "Python 3 (ipykernel)",
   "language": "python",
   "name": "python3"
  },
  "language_info": {
   "codemirror_mode": {
    "name": "ipython",
    "version": 3
   },
   "file_extension": ".py",
   "mimetype": "text/x-python",
   "name": "python",
   "nbconvert_exporter": "python",
   "pygments_lexer": "ipython3",
   "version": "3.11.7"
  }
 },
 "nbformat": 4,
 "nbformat_minor": 5
}
