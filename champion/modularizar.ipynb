{
 "cells": [
  {
   "cell_type": "code",
   "execution_count": 15,
   "id": "46ff93e7-b928-4ecd-952c-e40bb19a45fa",
   "metadata": {},
   "outputs": [],
   "source": [
    "import pickle\n",
    "import pandas as pd\n",
    "import numpy as np\n",
    "\n",
    "from sklearn.metrics import accuracy_score, precision_score, recall_score, f1_score"
   ]
  },
  {
   "cell_type": "code",
   "execution_count": 16,
   "id": "181f45d6-3fcb-4c3f-8a26-23d1f2099989",
   "metadata": {},
   "outputs": [],
   "source": [
    "def metricas_generales(modelo, \n",
    "                       x_val: pd.core.frame.DataFrame,\n",
    "                       y_val: pd.core.series.Series, \n",
    "                       nombre: str):\n",
    "    \"\"\"\n",
    "    Funcion que calcula métricas de modelos clasificación\n",
    "    ------------------------------------------------------------\n",
    "    Parámetros:\n",
    "        modelo:\n",
    "            Modelo de Machine Learning Scikit-learn (debe contar con el método predict)\n",
    "        x_val: pandas.core.frame.DataFrame\n",
    "            DataFrame con las variables explicativas utilizadas para validar el modelo\n",
    "        y_val: pandas.core.series.Series\n",
    "            Pandas Series con las etiquetas reales de los datos utilizados para validar el modelo\n",
    "        nombre: str\n",
    "            Nombre que identificará el modelo para comparaciones\n",
    "    ------------------------------------------------------------\n",
    "    Returns:\n",
    "        Diccionario con nombre del modelo y metricas: Accuracy, Precision, Recall, F1-score\n",
    "    \"\"\"\n",
    "    \n",
    "    metricas = {}\n",
    "    y_pred = modelo.predict(x_val)\n",
    "    metricas['Model'] = nombre\n",
    "    metricas['Accuracy'] = np.round(accuracy_score(y_val, y_pred), 4)\n",
    "    metricas['Precision'] = np.round(precision_score(y_val, y_pred), 4)\n",
    "    metricas['Recall'] = np.round(recall_score(y_val, y_pred), 4)\n",
    "    metricas['F1-score'] = np.round(f1_score(y_val, y_pred), 4)\n",
    "\n",
    "    return metricas"
   ]
  },
  {
   "cell_type": "code",
   "execution_count": 19,
   "id": "863fa571-7abb-49f5-97b4-ebd5edb01dbd",
   "metadata": {},
   "outputs": [],
   "source": [
    "def run_pipeline(file: str, mode: str='production'):\n",
    "\n",
    "    with open('robust_scaler.pkl', 'rb') as f:\n",
    "        scaler = pickle.load(f)\n",
    "\n",
    "    with open('linear_one_hot_encoder.pkl', 'rb') as f:\n",
    "        one_hot = pickle.load(f)\n",
    "    \n",
    "    with open('target_encoder.pkl', 'rb') as f:\n",
    "        target_encoder = pickle.load(f)\n",
    "        \n",
    "    with open('champion_model.pkl', 'rb') as f:\n",
    "        model = pickle.load(f)\n",
    "    \n",
    "    with open('columns_order.pkl', 'rb') as f:\n",
    "       order_cols = pickle.load(f)\n",
    "    \n",
    "    with open('cat_cols.pkl', 'rb') as f:\n",
    "       cat_cols = pickle.load(f)\n",
    "    \n",
    "    with open('num_cols.pkl', 'rb') as f:\n",
    "       num_cols = pickle.load(f)\n",
    "\n",
    "    data = pd.read_json(file, lines=True)\n",
    "    \n",
    "    from datetime import datetime\n",
    "    log = datetime.now().strftime('%Y%m%d_%H%M%S')\n",
    "    \n",
    "    if mode == 'production':\n",
    "        customers_ids = data['CustomerID']\n",
    "        data = data.drop(['CustomerID', 'ChargesDaily'], axis=1)\n",
    "        num_cols_t = data.select_dtypes(include=['float', 'int'], exclude='object').columns.tolist()\n",
    "        \n",
    "        data = one_hot.transform(data)\n",
    "        cols_names = order_cols[:-3] + num_cols_t\n",
    "        df = pd.DataFrame(data, columns=cols_names)\n",
    "        if 'ChargesDaily' in num_cols:\n",
    "            num_cols.remove('ChargesDaily')\n",
    "        df[num_cols_t] = scaler.transform(df[num_cols])\n",
    "        df.columns = order_cols\n",
    "        pred_proba = model.predict_proba(df)[:, 1]\n",
    "        pred_labels = model.predict(df)\n",
    "        results = pd.DataFrame({'CustomerID': customers_ids,\n",
    "                                'Probabilidad Churn': pred_proba,\n",
    "                                'Churn': pred_labels})\n",
    "        \n",
    "        results.to_json(f'pipeline_results_{log}.json')\n",
    "        return results\n",
    "    if mode == 'monitor':\n",
    "        #data.head()\n",
    "        data = data.drop(['CustomerID', 'ChargesDaily'], axis=1)\n",
    "        num_cols_t = data.select_dtypes(include=['float', 'int'], exclude='object').columns.tolist()\n",
    "        \n",
    "        y = data['Churn']\n",
    "        y = target_encoder.transform(y)\n",
    "        y = y.reshape(-1,1)\n",
    "        data = data.drop('Churn', axis=1)\n",
    "        data = one_hot.transform(data)\n",
    "        cols_names = order_cols[:-3] + num_cols_t\n",
    "        df = pd.DataFrame(data, columns=cols_names)\n",
    "        if 'ChargesDaily' in num_cols:\n",
    "            num_cols.remove('ChargesDaily')\n",
    "        df[num_cols_t] = scaler.transform(df[num_cols])\n",
    "        df.columns = order_cols\n",
    "        y_pred = model.predict(df)\n",
    "        metricas = metricas_generales(model, df, y, f'Champion_{log}')\n",
    "        df_metricas = []\n",
    "        df_metricas.append(metricas)\n",
    "        df_metricas = pd.DataFrame(df_metricas)\n",
    "        df_metricas.to_json(f'monitor_results_{log}.json')\n",
    "        return metricas"
   ]
  },
  {
   "cell_type": "code",
   "execution_count": 20,
   "id": "4a87e1a7-9b50-452a-9a4b-971414aaf32b",
   "metadata": {},
   "outputs": [
    {
     "data": {
      "text/plain": [
       "{'Model': 'Champion_20250705_173610',\n",
       " 'Accuracy': 0.7946,\n",
       " 'Precision': 0.7771,\n",
       " 'Recall': 0.8263,\n",
       " 'F1-score': 0.8009}"
      ]
     },
     "execution_count": 20,
     "metadata": {},
     "output_type": "execute_result"
    }
   ],
   "source": [
    "URL = 'https://raw.githubusercontent.com/ignaciomajo/proyecto_TelecomX_parte_2/refs/heads/main/src/datos_artificiales_labeled.json'\n",
    "\n",
    "run_pipeline(file=URL, mode='monitor')"
   ]
  },
  {
   "cell_type": "code",
   "execution_count": null,
   "id": "301fa0f8-cf06-4b10-81a1-66e8d6f689e2",
   "metadata": {},
   "outputs": [],
   "source": []
  },
  {
   "cell_type": "code",
   "execution_count": null,
   "id": "150b2f66-01f0-4d9d-b45a-6ba069773d99",
   "metadata": {},
   "outputs": [],
   "source": []
  }
 ],
 "metadata": {
  "kernelspec": {
   "display_name": "Python 3 (ipykernel)",
   "language": "python",
   "name": "python3"
  },
  "language_info": {
   "codemirror_mode": {
    "name": "ipython",
    "version": 3
   },
   "file_extension": ".py",
   "mimetype": "text/x-python",
   "name": "python",
   "nbconvert_exporter": "python",
   "pygments_lexer": "ipython3",
   "version": "3.11.7"
  }
 },
 "nbformat": 4,
 "nbformat_minor": 5
}
